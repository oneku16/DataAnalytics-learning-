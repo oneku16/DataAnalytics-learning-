{
 "cells": [
  {
   "cell_type": "code",
   "execution_count": 79,
   "metadata": {
    "collapsed": true,
    "ExecuteTime": {
     "start_time": "2023-04-15T01:55:44.019454Z",
     "end_time": "2023-04-15T01:55:44.034818Z"
    }
   },
   "outputs": [],
   "source": [
    "from bls import get_series\n",
    "import pandas as pd"
   ]
  },
  {
   "cell_type": "code",
   "execution_count": 167,
   "outputs": [],
   "source": [
    "housing = get_series('SUUR0000SAH')\n",
    "housing.to_csv('housing_index.csv')"
   ],
   "metadata": {
    "collapsed": false,
    "ExecuteTime": {
     "start_time": "2023-04-15T02:22:37.751036Z",
     "end_time": "2023-04-15T02:22:38.915715Z"
    }
   }
  },
  {
   "cell_type": "code",
   "execution_count": 168,
   "outputs": [],
   "source": [
    "sp_data = pd.read_csv('HistoricalPrices.csv')\n",
    "sp_data.columns = sp_data.columns.str.strip()"
   ],
   "metadata": {
    "collapsed": false,
    "ExecuteTime": {
     "start_time": "2023-04-15T02:22:39.358045Z",
     "end_time": "2023-04-15T02:22:39.365666Z"
    }
   }
  },
  {
   "cell_type": "code",
   "execution_count": 177,
   "outputs": [
    {
     "data": {
      "text/plain": "<bound method NDFrame.tail of           Date     Open     High      Low    Close\n0   2023-04-13  4100.04  4150.26  4099.40  4146.22\n1   2023-04-12  4121.72  4134.37  4086.94  4091.95\n2   2023-04-11  4110.29  4124.26  4102.61  4108.94\n3   2023-04-10  4085.20  4109.50  4072.55  4109.11\n4   2023-04-06  4081.58  4107.32  4069.84  4105.02\n..         ...      ...      ...      ...      ...\n56  2023-01-23  3978.14  4039.31  3971.64  4019.81\n57  2023-01-20  3909.04  3972.96  3897.86  3972.61\n58  2023-01-19  3911.84  3922.94  3885.54  3898.85\n59  2023-01-18  4002.25  4014.16  3926.59  3928.86\n60  2023-01-17  3999.28  4015.39  3984.57  3990.97\n\n[61 rows x 5 columns]>"
     },
     "execution_count": 177,
     "metadata": {},
     "output_type": "execute_result"
    }
   ],
   "source": [
    "sp_data['Date'] = sp_data['Date'].astype('datetime64[ns]')\n",
    "sp_data['Date'] = sp_data['Date'].dt.strftime('%Y-%m-%d')\n",
    "sp_data.tail"
   ],
   "metadata": {
    "collapsed": false,
    "ExecuteTime": {
     "start_time": "2023-04-15T02:27:09.743431Z",
     "end_time": "2023-04-15T02:27:09.769169Z"
    }
   }
  },
  {
   "cell_type": "code",
   "execution_count": 176,
   "outputs": [],
   "source": [
    "for date in sp_data['Date']:\n",
    "    if '-04-30' in date:\n",
    "        print(date)"
   ],
   "metadata": {
    "collapsed": false,
    "ExecuteTime": {
     "start_time": "2023-04-15T02:24:31.596769Z",
     "end_time": "2023-04-15T02:24:31.623534Z"
    }
   }
  },
  {
   "cell_type": "code",
   "execution_count": 164,
   "outputs": [
    {
     "data": {
      "text/plain": "     Date     Open     High     Low    Close\n9  2023Q1  4046.74  4057.85  4032.1  4050.83",
      "text/html": "<div>\n<style scoped>\n    .dataframe tbody tr th:only-of-type {\n        vertical-align: middle;\n    }\n\n    .dataframe tbody tr th {\n        vertical-align: top;\n    }\n\n    .dataframe thead th {\n        text-align: right;\n    }\n</style>\n<table border=\"1\" class=\"dataframe\">\n  <thead>\n    <tr style=\"text-align: right;\">\n      <th></th>\n      <th>Date</th>\n      <th>Open</th>\n      <th>High</th>\n      <th>Low</th>\n      <th>Close</th>\n    </tr>\n  </thead>\n  <tbody>\n    <tr>\n      <th>9</th>\n      <td>2023Q1</td>\n      <td>4046.74</td>\n      <td>4057.85</td>\n      <td>4032.1</td>\n      <td>4050.83</td>\n    </tr>\n  </tbody>\n</table>\n</div>"
     },
     "execution_count": 164,
     "metadata": {},
     "output_type": "execute_result"
    }
   ],
   "source": [
    "sp_data = sp_data[(sp_data.Date.str.contains('Q') == True)]\n",
    "sp_data"
   ],
   "metadata": {
    "collapsed": false,
    "ExecuteTime": {
     "start_time": "2023-04-15T02:21:52.702168Z",
     "end_time": "2023-04-15T02:21:52.723851Z"
    }
   }
  },
  {
   "cell_type": "code",
   "execution_count": 161,
   "outputs": [],
   "source": [
    "sp_data_1 = sp_data[['Date', 'Close']]"
   ],
   "metadata": {
    "collapsed": false,
    "ExecuteTime": {
     "start_time": "2023-04-15T02:21:29.990482Z",
     "end_time": "2023-04-15T02:21:29.998021Z"
    }
   }
  },
  {
   "cell_type": "code",
   "execution_count": 162,
   "outputs": [
    {
     "data": {
      "text/plain": "          Date    Close\n0   2023-04-13  4146.22\n1   2023-04-12  4091.95\n2   2023-04-11  4108.94\n3   2023-04-10  4109.11\n4   2023-04-06  4105.02\n..         ...      ...\n56  2023-01-23  4019.81\n57  2023-01-20  3972.61\n58  2023-01-19  3898.85\n59  2023-01-18  3928.86\n60  2023-01-17  3990.97\n\n[61 rows x 2 columns]",
      "text/html": "<div>\n<style scoped>\n    .dataframe tbody tr th:only-of-type {\n        vertical-align: middle;\n    }\n\n    .dataframe tbody tr th {\n        vertical-align: top;\n    }\n\n    .dataframe thead th {\n        text-align: right;\n    }\n</style>\n<table border=\"1\" class=\"dataframe\">\n  <thead>\n    <tr style=\"text-align: right;\">\n      <th></th>\n      <th>Date</th>\n      <th>Close</th>\n    </tr>\n  </thead>\n  <tbody>\n    <tr>\n      <th>0</th>\n      <td>2023-04-13</td>\n      <td>4146.22</td>\n    </tr>\n    <tr>\n      <th>1</th>\n      <td>2023-04-12</td>\n      <td>4091.95</td>\n    </tr>\n    <tr>\n      <th>2</th>\n      <td>2023-04-11</td>\n      <td>4108.94</td>\n    </tr>\n    <tr>\n      <th>3</th>\n      <td>2023-04-10</td>\n      <td>4109.11</td>\n    </tr>\n    <tr>\n      <th>4</th>\n      <td>2023-04-06</td>\n      <td>4105.02</td>\n    </tr>\n    <tr>\n      <th>...</th>\n      <td>...</td>\n      <td>...</td>\n    </tr>\n    <tr>\n      <th>56</th>\n      <td>2023-01-23</td>\n      <td>4019.81</td>\n    </tr>\n    <tr>\n      <th>57</th>\n      <td>2023-01-20</td>\n      <td>3972.61</td>\n    </tr>\n    <tr>\n      <th>58</th>\n      <td>2023-01-19</td>\n      <td>3898.85</td>\n    </tr>\n    <tr>\n      <th>59</th>\n      <td>2023-01-18</td>\n      <td>3928.86</td>\n    </tr>\n    <tr>\n      <th>60</th>\n      <td>2023-01-17</td>\n      <td>3990.97</td>\n    </tr>\n  </tbody>\n</table>\n<p>61 rows × 2 columns</p>\n</div>"
     },
     "execution_count": 162,
     "metadata": {},
     "output_type": "execute_result"
    }
   ],
   "source": [
    "sp_data_1"
   ],
   "metadata": {
    "collapsed": false,
    "ExecuteTime": {
     "start_time": "2023-04-15T02:21:31.676747Z",
     "end_time": "2023-04-15T02:21:31.697448Z"
    }
   }
  }
 ],
 "metadata": {
  "kernelspec": {
   "display_name": "Python 3",
   "language": "python",
   "name": "python3"
  },
  "language_info": {
   "codemirror_mode": {
    "name": "ipython",
    "version": 2
   },
   "file_extension": ".py",
   "mimetype": "text/x-python",
   "name": "python",
   "nbconvert_exporter": "python",
   "pygments_lexer": "ipython2",
   "version": "2.7.6"
  }
 },
 "nbformat": 4,
 "nbformat_minor": 0
}
