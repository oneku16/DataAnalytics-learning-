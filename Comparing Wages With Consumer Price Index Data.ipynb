{
 "cells": [
  {
   "cell_type": "code",
   "execution_count": 22,
   "metadata": {
    "collapsed": true,
    "ExecuteTime": {
     "start_time": "2023-04-13T00:40:31.725300Z",
     "end_time": "2023-04-13T00:40:31.743320Z"
    }
   },
   "outputs": [],
   "source": [
    "import bls\n",
    "import pandas as pd\n",
    "import numpy as np\n",
    "import matplotlib.pyplot as plt"
   ]
  },
  {
   "cell_type": "code",
   "execution_count": 19,
   "outputs": [
    {
     "name": "stderr",
     "output_type": "stream",
     "text": [
      "No Data Available for Series CIU2020000000000A Year: 2023\n",
      "D:\\data_analytics\\lib\\site-packages\\bls\\api.py:106: UserWarning: Could not infer format, so each element will be parsed individually, falling back to `dateutil`. To ensure parsing is consistent and as-expected, please specify a format.\n",
      "  df.assign(date=pd.to_datetime(\n"
     ]
    },
    {
     "data": {
      "text/plain": "date\n2020Q3    2.7\n2020Q4    2.8\n2021Q1    3.0\n2021Q2    3.5\n2021Q3    4.6\n2021Q4    5.0\n2022Q1    5.0\n2022Q2    5.7\n2022Q3    5.2\n2022Q4    5.1\nFreq: Q-DEC, Name: CIU2020000000000A, dtype: float64"
     },
     "execution_count": 19,
     "metadata": {},
     "output_type": "execute_result"
    }
   ],
   "source": [
    "wages = bls.get_series('CIU2020000000000A')\n",
    "wages.tail(10)"
   ],
   "metadata": {
    "collapsed": false,
    "ExecuteTime": {
     "start_time": "2023-04-13T00:38:45.336257Z",
     "end_time": "2023-04-13T00:38:46.406153Z"
    }
   }
  },
  {
   "cell_type": "code",
   "execution_count": 25,
   "outputs": [
    {
     "data": {
      "text/plain": "        Date      CPI\n101  2022-06  296.311\n102  2022-07  296.276\n103  2022-08  296.171\n104  2022-09  296.808\n105  2022-10  298.012\n106  2022-11  297.711\n107  2022-12  296.797\n108  2023-01  299.170\n109  2023-02  300.840\n110  2023-03  301.836",
      "text/html": "<div>\n<style scoped>\n    .dataframe tbody tr th:only-of-type {\n        vertical-align: middle;\n    }\n\n    .dataframe tbody tr th {\n        vertical-align: top;\n    }\n\n    .dataframe thead th {\n        text-align: right;\n    }\n</style>\n<table border=\"1\" class=\"dataframe\">\n  <thead>\n    <tr style=\"text-align: right;\">\n      <th></th>\n      <th>Date</th>\n      <th>CPI</th>\n    </tr>\n  </thead>\n  <tbody>\n    <tr>\n      <th>101</th>\n      <td>2022-06</td>\n      <td>296.311</td>\n    </tr>\n    <tr>\n      <th>102</th>\n      <td>2022-07</td>\n      <td>296.276</td>\n    </tr>\n    <tr>\n      <th>103</th>\n      <td>2022-08</td>\n      <td>296.171</td>\n    </tr>\n    <tr>\n      <th>104</th>\n      <td>2022-09</td>\n      <td>296.808</td>\n    </tr>\n    <tr>\n      <th>105</th>\n      <td>2022-10</td>\n      <td>298.012</td>\n    </tr>\n    <tr>\n      <th>106</th>\n      <td>2022-11</td>\n      <td>297.711</td>\n    </tr>\n    <tr>\n      <th>107</th>\n      <td>2022-12</td>\n      <td>296.797</td>\n    </tr>\n    <tr>\n      <th>108</th>\n      <td>2023-01</td>\n      <td>299.170</td>\n    </tr>\n    <tr>\n      <th>109</th>\n      <td>2023-02</td>\n      <td>300.840</td>\n    </tr>\n    <tr>\n      <th>110</th>\n      <td>2023-03</td>\n      <td>301.836</td>\n    </tr>\n  </tbody>\n</table>\n</div>"
     },
     "execution_count": 25,
     "metadata": {},
     "output_type": "execute_result"
    }
   ],
   "source": [
    "CPI = bls.get_series('CUUR0000SA0')\n",
    "CPI.to_csv('cpi_data.csv')\n",
    "CPI_data = pd.read_csv('cpi_data.csv')\n",
    "CPI_data.columns = 'Date', 'CPI'\n",
    "# CPI_data.tail(10)"
   ],
   "metadata": {
    "collapsed": false,
    "ExecuteTime": {
     "start_time": "2023-04-13T00:41:31.660597Z",
     "end_time": "2023-04-13T00:41:32.717039Z"
    }
   }
  },
  {
   "cell_type": "code",
   "execution_count": 28,
   "outputs": [],
   "source": [
    "CPI_data['Date'] = CPI_data['Date'].str.replace('-03', 'Q1')\n",
    "CPI_data['Date'] = CPI_data['Date'].str.replace('-06', 'Q2')\n",
    "CPI_data['Date'] = CPI_data['Date'].str.replace('-09', 'Q3')\n",
    "CPI_data['Date'] = CPI_data['Date'].str.replace('-012', 'Q4')"
   ],
   "metadata": {
    "collapsed": false,
    "ExecuteTime": {
     "start_time": "2023-04-13T00:45:22.431072Z",
     "end_time": "2023-04-13T00:45:22.445608Z"
    }
   }
  }
 ],
 "metadata": {
  "kernelspec": {
   "display_name": "Python 3",
   "language": "python",
   "name": "python3"
  },
  "language_info": {
   "codemirror_mode": {
    "name": "ipython",
    "version": 2
   },
   "file_extension": ".py",
   "mimetype": "text/x-python",
   "name": "python",
   "nbconvert_exporter": "python",
   "pygments_lexer": "ipython2",
   "version": "2.7.6"
  }
 },
 "nbformat": 4,
 "nbformat_minor": 0
}
